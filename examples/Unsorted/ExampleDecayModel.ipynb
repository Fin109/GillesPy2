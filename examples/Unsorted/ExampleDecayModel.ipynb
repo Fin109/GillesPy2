{
 "cells": [
  {
   "cell_type": "code",
   "execution_count": 1,
   "metadata": {},
   "outputs": [],
   "source": [
    "import sys\n",
    "import os\n",
    "import time\n",
    "sys.path.append(os.path.abspath(os.path.join(os.getcwd(), os.pardir)))\n",
    "sys.path.append('../..')\n",
    "# %matplotlib\n",
    "# %matplotlib inline\n",
    "import numpy\n",
    "import matplotlib.pyplot as plt\n",
    "import plotly.plotly as py\n",
    "from scipy.integrate import odeint\n",
    "import math\n",
    "import random"
   ]
  },
  {
   "cell_type": "code",
   "execution_count": 2,
   "metadata": {},
   "outputs": [],
   "source": [
    "import gillespy2\n",
    "from gillespy2.solvers.numpy.basic_tau_hybrid_solver import BasicTauHybridSolver\n",
    "from gillespy2.solvers.numpy.ssa_solver import NumPySSASolver\n",
    "from gillespy2.solvers.numpy.basic_ode_solver import BasicODESolver"
   ]
  },
  {
   "cell_type": "code",
   "execution_count": 3,
   "metadata": {},
   "outputs": [],
   "source": [
    "class ExampleDecayModel(gillespy2.Model):\n",
    "     def __init__(self, parameter_values=None):\n",
    "            #initialize Model\n",
    "            gillespy2.Model.__init__(self, name=\"Automatic Switch Example\")\n",
    "            \n",
    "            #parameters\n",
    "            k1 = gillespy2.Parameter(name='k1', expression= 8e-1)\n",
    "            self.add_parameter([k1])\n",
    "            \n",
    "            #Species\n",
    "            A = gillespy2.Species(name='A', initial_value=1e5)\n",
    "            self.add_species([A])\n",
    "            \n",
    "            #reactions\n",
    "            r1 = gillespy2.Reaction(name=\"r1\",reactants={A:1}, products={},\n",
    "                   rate=k1)\n",
    "\n",
    "            self.add_reaction([r1])\n",
    "            self.timespan(numpy.linspace(0,10,101))"
   ]
  },
  {
   "cell_type": "code",
   "execution_count": 4,
   "metadata": {},
   "outputs": [],
   "source": [
    "model = ExampleDecayModel()"
   ]
  },
  {
   "cell_type": "code",
   "execution_count": 5,
   "metadata": {},
   "outputs": [],
   "source": [
    "start = time.clock()\n",
    "for i in range(100):\n",
    "    ode_results = model.run(solver=BasicODESolver)\n",
    "end = time.clock()\n",
    "ode_avg = (end - start) / 100\n",
    "\n",
    "start = time.clock()\n",
    "for i in range(100):\n",
    "    hybrid_results = model.run(solver=BasicTauHybridSolver)\n",
    "end = time.clock()\n",
    "hybrid_avg = (end - start) / 100\n",
    "\n",
    "start = time.clock()\n",
    "for i in range(100):\n",
    "    ssa_results = model.run(solver=NumPySSASolver)\n",
    "end = time.clock()\n",
    "ssa_avg = (end - start) / 100"
   ]
  },
  {
   "cell_type": "code",
   "execution_count": 6,
   "metadata": {},
   "outputs": [
    {
     "name": "stdout",
     "output_type": "stream",
     "text": [
      "0.0015625\n",
      "0.06296875\n",
      "0.69125\n"
     ]
    }
   ],
   "source": [
    "print(ode_avg)\n",
    "print(hybrid_avg)\n",
    "print(ssa_avg)"
   ]
  },
  {
   "cell_type": "code",
   "execution_count": 7,
   "metadata": {},
   "outputs": [
    {
     "name": "stdout",
     "output_type": "stream",
     "text": [
      "*** ODE ***\n",
      "CPU times: user 0 ns, sys: 0 ns, total: 0 ns\n",
      "Wall time: 1.48 ms\n",
      "*** HYBRID ***\n",
      "CPU times: user 62.5 ms, sys: 0 ns, total: 62.5 ms\n",
      "Wall time: 62.1 ms\n",
      "*** SSA ***\n",
      "CPU times: user 703 ms, sys: 0 ns, total: 703 ms\n",
      "Wall time: 697 ms\n"
     ]
    }
   ],
   "source": [
    "print('*** ODE ***')\n",
    "%time ode_results = model.run(solver=BasicODESolver)\n",
    "print('*** HYBRID ***')\n",
    "%time hybrid_results = model.run(solver=BasicTauHybridSolver)\n",
    "print('*** SSA ***')\n",
    "%time ssa_results = model.run(solver=NumPySSASolver)"
   ]
  },
  {
   "cell_type": "code",
   "execution_count": 8,
   "metadata": {},
   "outputs": [
    {
     "data": {
      "text/plain": [
       "Text(0.5, 1.0, 'Example Single-Species Decay Model')"
      ]
     },
     "execution_count": 8,
     "metadata": {},
     "output_type": "execute_result"
    },
    {
     "data": {
      "image/png": "[encoded data removed]",
      "text/plain": [
       "<Figure size 1080x720 with 1 Axes>"
      ]
     },
     "metadata": {
      "needs_background": "light"
     },
     "output_type": "display_data"
    }
   ],
   "source": [
    "plt.figure(figsize=(15, 10))\n",
    "start_slice = 9\n",
    "end_slice = 11\n",
    "for species in hybrid_results[0]:\n",
    "    if species == 'time': continue\n",
    "    plt.plot(hybrid_results[0]['time'], hybrid_results[0][species], label='hybrid')\n",
    "for species in ode_results[0]:\n",
    "    if species == 'time': continue\n",
    "    plt.plot(ode_results[0]['time'], ode_results[0][species], label='ode')\n",
    "for species in ssa_results[0]:\n",
    "    if species == 'time': continue\n",
    "    plt.plot(ssa_results[0]['time'], ssa_results[0][species], label='ssa')\n",
    "plt.title('Example Single-Species Decay Model')\n",
    "# hyb_solv_check_plot = plt.gcf()\n",
    "# py.iplot_mpl(hyb_solv_check_plot, resize=False, filename='hyb_solv_check_plot', width=960, height=1120)"
   ]
  },
  {
   "cell_type": "code",
   "execution_count": 9,
   "metadata": {},
   "outputs": [
    {
     "name": "stdout",
     "output_type": "stream",
     "text": [
      "at  10 % through simulation\n",
      "ODE:    44932.89767329518\n",
      "Hybrid: 44752.326900808526\n",
      "SSA:    44818.0\n"
     ]
    }
   ],
   "source": [
    "t = 10\n",
    "print('at ', t, '% through simulation')\n",
    "print('ODE: {0:20}'.format(ode_results[0]['A'][t]))\n",
    "print('Hybrid: {0:10}'.format(hybrid_results[0]['A'][t]))\n",
    "print('SSA: {0:10}'.format(ssa_results[0]['A'][t]))"
   ]
  },
  {
   "cell_type": "code",
   "execution_count": 10,
   "metadata": {},
   "outputs": [
    {
     "name": "stdout",
     "output_type": "stream",
     "text": [
      "at  90 % through simulation\n",
      "ODE:      74.66\n",
      "Hybrid:   78\n",
      "SSA:      69.0\n"
     ]
    }
   ],
   "source": [
    "t = 90\n",
    "print('at ', t, '% through simulation')\n",
    "print('ODE: {:-10.4}'.format(ode_results[0]['A'][t]))\n",
    "print('Hybrid: {:-4d}'.format(hybrid_results[0]['A'][t]))\n",
    "print('SSA: {:-9}'.format(ssa_results[0]['A'][t]))"
   ]
  },
  {
   "cell_type": "code",
   "execution_count": 11,
   "metadata": {},
   "outputs": [
    {
     "data": {
      "text/plain": [
       "<BarContainer object of 3 artists>"
      ]
     },
     "execution_count": 11,
     "metadata": {},
     "output_type": "execute_result"
    },
    {
     "data": {
      "image/png": "[encoded data removed]",
      "text/plain": [
       "<Figure size 432x288 with 1 Axes>"
      ]
     },
     "metadata": {
      "needs_background": "light"
     },
     "output_type": "display_data"
    }
   ],
   "source": [
    "x = ['ODE', 'Hybrid', 'SSA']\n",
    "runtimes = [ode_avg, hybrid_avg, ssa_avg]\n",
    "plt.xlabel('Solver')\n",
    "plt.ylabel('Time (in ms)')\n",
    "plt.title('Simple Decay Run Times')\n",
    "plt.bar(x, runtimes)"
   ]
  },
  {
   "cell_type": "code",
   "execution_count": null,
   "metadata": {},
   "outputs": [],
   "source": []
  }
 ],
 "metadata": {
  "kernelspec": {
   "display_name": "Python 3",
   "language": "python",
   "name": "python3"
  },
  "language_info": {
   "codemirror_mode": {
    "name": "ipython",
    "version": 3
   },
   "file_extension": ".py",
   "mimetype": "text/x-python",
   "name": "python",
   "nbconvert_exporter": "python",
   "pygments_lexer": "ipython3",
   "version": "3.6.7"
  }
 },
 "nbformat": 4,
 "nbformat_minor": 2
}
