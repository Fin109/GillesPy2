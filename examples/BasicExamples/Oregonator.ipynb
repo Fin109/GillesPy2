{
 "cells": [
  {
   "cell_type": "code",
   "execution_count": 1,
   "metadata": {},
   "outputs": [],
   "source": [
    "import sys, os\n",
    "sys.path.append('../../../GillesPy2')\n",
    "import matplotlib.pyplot as plt\n",
    "import numpy as np\n",
    "import gillespy2\n",
    "from gillespy2.solvers.numpy.basic_ode_solver import BasicODESolver\n",
    "from gillespy2.solvers.numpy.basic_tau_hybrid_solver import BasicTauHybridSolver"
   ]
  },
  {
   "cell_type": "code",
   "execution_count": 2,
   "metadata": {},
   "outputs": [],
   "source": [
    "# Oregonator system\n",
    "# http://www.scholarpedia.org/article/Oregonator\n",
    "class Oregonator(gillespy2.Model):\n",
    "\n",
    "     def __init__(self, parameter_values = None):\n",
    "\n",
    "          # Superclass initialization\n",
    "          gillespy2.Model.__init__(self, name = \"Oregonator\")\n",
    "          \n",
    "          # Species\n",
    "          F = gillespy2.Species(name = \"F\", initial_value = 2)\n",
    "          A = gillespy2.Species(name = \"A\", initial_value = 250)\n",
    "          B = gillespy2.Species(name = \"B\", initial_value = 500)\n",
    "          C = gillespy2.Species(name = \"C\", initial_value = 1000)\n",
    "          P = gillespy2.Species(name = \"P\", initial_value = 0)\n",
    "          self.add_species([F, A, B, C, P])\n",
    "\n",
    "          # Parameters (rates)\n",
    "          k1 = gillespy2.Parameter(name = \"k1\", expression = 2.0)\n",
    "          k2 = gillespy2.Parameter(name = \"k2\", expression = 0.1)\n",
    "          k3 = gillespy2.Parameter(name = \"k3\", expression = 104)\n",
    "          k4 = gillespy2.Parameter(name = \"k4\", expression = 4e-7)\n",
    "          k5 = gillespy2.Parameter(name = \"k5\", expression = 26.0)\n",
    "          self.add_parameter([k1, k2, k3, k4, k5])\n",
    "          \n",
    "          # Reactions\n",
    "          reaction1 = gillespy2.Reaction(name = \"reaction1\", \n",
    "                                         reactants = {B: 1, F: 1}, \n",
    "                                         products = {A: 1, F: 1}, \n",
    "                                         rate = k1)\n",
    "          reaction2 = gillespy2.Reaction(name = \"reaction2\", \n",
    "                                         reactants = {A: 1, B: 1}, \n",
    "                                         products = {P: 1}, \n",
    "                                         rate = k2)\n",
    "          reaction3 = gillespy2.Reaction(name = \"reaction3\", \n",
    "                                         reactants = {A: 1, F: 1}, \n",
    "                                         products = {A: 2, C: 1, F: 1}, \n",
    "                                         rate = k3)\n",
    "          reaction4 = gillespy2.Reaction(name = \"reaction4\", \n",
    "                                         reactants = {A: 2}, \n",
    "                                         products = {P: 1}, \n",
    "                                         rate = k4)\n",
    "          reaction5 = gillespy2.Reaction(name = \"reaction5\", \n",
    "                                         reactants = {C: 1, F: 1}, \n",
    "                                         products = {B: 1, F: 1}, \n",
    "                                         rate = k5)\n",
    "          self.add_reaction([reaction1, reaction2, reaction3, reaction4, reaction5])\n",
    "          \n",
    "          # Set timespan of model\n",
    "          self.timespan(np.linspace(0, 5, 50))\n",
    "\n",
    "          # Set list of species that should be plotted\n",
    "          self.species_to_plot = [\"A\", \"B\", \"C\"]"
   ]
  },
  {
   "cell_type": "code",
   "execution_count": 3,
   "metadata": {},
   "outputs": [],
   "source": [
    "model = Oregonator()"
   ]
  },
  {
   "cell_type": "code",
   "execution_count": 4,
   "metadata": {},
   "outputs": [
    {
     "name": "stderr",
     "output_type": "stream",
     "text": [
      "/home/smatthe2/.local/lib/python3.6/site-packages/scipy/integrate/_ode.py:1348: UserWarning: lsoda: Excess work done on this call (perhaps wrong Dfun type).\n",
      "  self.messages.get(istate, unexpected_istate_msg)))\n"
     ]
    }
   ],
   "source": [
    "ode_results = model.run(solver=BasicODESolver)"
   ]
  },
  {
   "cell_type": "code",
   "execution_count": 10,
   "metadata": {},
   "outputs": [
    {
     "data": {
      "text/plain": [
       "<matplotlib.legend.Legend at 0x7f65b4882e80>"
      ]
     },
     "execution_count": 10,
     "metadata": {},
     "output_type": "execute_result"
    },
    {
     "data": {
      "image/png": "[encoded data removed]",
      "text/plain": [
       "<Figure size 432x288 with 1 Axes>"
      ]
     },
     "metadata": {
      "needs_background": "light"
     },
     "output_type": "display_data"
    }
   ],
   "source": [
    "for species in ode_results[0]:\n",
    "    if species == 'time': continue\n",
    "    plt.plot(ode_results[0]['time'], ode_results[0][species], label=species)\n",
    "plt.legend(loc='best')"
   ]
  },
  {
   "cell_type": "code",
   "execution_count": 6,
   "metadata": {},
   "outputs": [
    {
     "name": "stdout",
     "output_type": "stream",
     "text": [
      "CPU times: user 31.2 ms, sys: 93.8 ms, total: 125 ms\n",
      "Wall time: 14min 18s\n"
     ]
    }
   ],
   "source": [
    "%time results = model.run()"
   ]
  },
  {
   "cell_type": "code",
   "execution_count": 9,
   "metadata": {},
   "outputs": [
    {
     "data": {
      "image/png": "[encoded data removed]",
      "text/plain": [
       "<Figure size 432x288 with 1 Axes>"
      ]
     },
     "metadata": {
      "needs_background": "light"
     },
     "output_type": "display_data"
    }
   ],
   "source": [
    "for species in results[0]:\n",
    "    if species == 'time': continue\n",
    "    plt.plot(results[0]['time'], results[0][species])"
   ]
  }
 ],
 "metadata": {
  "kernelspec": {
   "display_name": "Python 3",
   "language": "python",
   "name": "python3"
  },
  "language_info": {
   "codemirror_mode": {
    "name": "ipython",
    "version": 3
   },
   "file_extension": ".py",
   "mimetype": "text/x-python",
   "name": "python",
   "nbconvert_exporter": "python",
   "pygments_lexer": "ipython3",
   "version": "3.6.8"
  }
 },
 "nbformat": 4,
 "nbformat_minor": 2
}
