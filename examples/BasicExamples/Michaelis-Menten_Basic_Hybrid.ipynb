{
 "cells": [
  {
   "cell_type": "markdown",
   "metadata": {},
   "source": [
    "# BasicHybridSolver"
   ]
  },
  {
   "cell_type": "markdown",
   "metadata": {},
   "source": [
    "### Imports"
   ]
  },
  {
   "cell_type": "code",
   "execution_count": 1,
   "metadata": {},
   "outputs": [],
   "source": [
    "import sys\n",
    "import os\n",
    "import numpy\n",
    "import matplotlib.pyplot as plt\n",
    "sys.path.append(os.path.abspath(os.path.join(os.getcwd(), '../../')))\n",
    "import gillespy2.core.gillespySolver\n",
    "import gillespy2\n",
    "from gillespy2.core.gillespyError import SolverError, DirectoryError, BuildError, ExecutionError\n",
    "from gillespy2.solvers.numpy.basic_hybrid_solver import BasicHybridSolver"
   ]
  },
  {
   "cell_type": "markdown",
   "metadata": {},
   "source": [
    "### Model Instantiation\n",
    "\n",
    "Model must include rates, species, and reactions"
   ]
  },
  {
   "cell_type": "code",
   "execution_count": 2,
   "metadata": {},
   "outputs": [],
   "source": [
    "import gillespy2\n",
    "class MichaelisMenten(gillespy2.Model):\n",
    "     def __init__(self, parameter_values=None):\n",
    "            #initialize Model\n",
    "            gillespy2.Model.__init__(self, name=\"Michaelis_Menten\")\n",
    "            \n",
    "            #parameters\n",
    "            rate1 = gillespy2.Parameter(name='rate1', expression= 0.0017)\n",
    "            rate2 = gillespy2.Parameter(name='rate2', expression= 0.5)\n",
    "            rate3 = gillespy2.Parameter(name='rate3', expression = 0.1)\n",
    "            self.add_parameter([rate1,rate2,rate3])\n",
    "            \n",
    "            #Species\n",
    "            A = gillespy2.Species(name='A', initial_value=301)\n",
    "            B = gillespy2.Species(name='B', initial_value=120)\n",
    "            C = gillespy2.Species(name='C', initial_value=0)\n",
    "            D = gillespy2.Species(name='D', initial_value=0)\n",
    "            self.add_species([A, B, C, D])\n",
    "            \n",
    "            #reactions\n",
    "            r1 = gillespy2.Reaction(name=\"r1\",reactants={A:1,B:1}, products={C:1},\n",
    "                   rate=rate1)\n",
    "            \n",
    "            r2 = gillespy2.Reaction(name=\"r2\",reactants={C:1}, products={A:1,B:1},\n",
    "                    rate=rate2)\n",
    "            \n",
    "            r3 = gillespy2.Reaction(name=\"r3\",reactants={C:1}, products={B:1,D:1},\n",
    "                    rate=rate3)\n",
    "            self.add_reaction([r1,r2,r3])\n",
    "            self.timespan(numpy.linspace(0,100,101))"
   ]
  },
  {
   "cell_type": "code",
   "execution_count": 3,
   "metadata": {
    "scrolled": true
   },
   "outputs": [],
   "source": [
    "model = MichaelisMenten()\n"
   ]
  },
  {
   "cell_type": "markdown",
   "metadata": {},
   "source": [
    "### Run Model and plot"
   ]
  },
  {
   "cell_type": "code",
   "execution_count": null,
   "metadata": {
    "scrolled": true
   },
   "outputs": [
    {
     "name": "stderr",
     "output_type": "stream",
     "text": [
      "/home/smatthe2/.local/lib/python3.6/site-packages/scipy/integrate/_ivp/common.py:41: UserWarning: The following arguments have no effect for a chosen solver: `options`.\n",
      "  .format(\", \".join(\"`{}`\".format(x) for x in extraneous)))\n"
     ]
    }
   ],
   "source": [
    "%time results = model.run(solver=BasicHybridSolver())"
   ]
  },
  {
   "cell_type": "code",
   "execution_count": null,
   "metadata": {},
   "outputs": [],
   "source": [
    "results.plot()"
   ]
  },
  {
   "cell_type": "code",
   "execution_count": null,
   "metadata": {},
   "outputs": [],
   "source": []
  }
 ],
 "metadata": {
  "kernelspec": {
   "display_name": "Python 3",
   "language": "python",
   "name": "python3"
  },
  "language_info": {
   "codemirror_mode": {
    "name": "ipython",
    "version": 3
   },
   "file_extension": ".py",
   "mimetype": "text/x-python",
   "name": "python",
   "nbconvert_exporter": "python",
   "pygments_lexer": "ipython3",
   "version": "3.6.9"
  }
 },
 "nbformat": 4,
 "nbformat_minor": 2
}
